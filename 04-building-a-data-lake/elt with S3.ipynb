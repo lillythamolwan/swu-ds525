{
 "cells": [
  {
   "cell_type": "code",
   "execution_count": null,
   "metadata": {},
   "outputs": [],
   "source": [
    "from pyspark import SparkConf\n",
    "from pyspark.sql import SparkSession\n",
    "\n",
    "ไปที่ AWS Learner Lab และที่ Terminal ให้เราพิมพ์คำสั่ง cat ~/.aws/credentials ลงไป จะได้ค่าทั้ง 3 ค่า ที่ต้องการมา ตามรูปด้านล่างนี้\n",
    "\n",
    "![credential aws](credential aws.jpg)\n",
    "\n",
    "AWS_ACCESS_KEY_ID = \"d8a3a684ed4bVPwwJf9t3QxV8STEanaELqZAk7b5\"\n",
    "AWS_SECRET_ACCESS_KEY = \"YOUR_AWS_SECRET_ACCESS_KEY\"\n",
    "AWS_SESSION_TOKEN = \"YOUR_AWS_SESSION_TOKEN\"\n",
    "\n",
    "conf = SparkConf()\n",
    "conf.set(\"spark.jars.packages\", \"org.apache.hadoop:hadoop-aws:3.2.2\")\n",
    "conf.set(\"spark.hadoop.fs.s3a.aws.credentials.provider\", \"org.apache.hadoop.fs.s3a.TemporaryAWSCredentialsProvider\")\n",
    "conf.set(\"spark.hadoop.fs.s3a.access.key\", AWS_ACCESS_KEY_ID)\n",
    "conf.set(\"spark.hadoop.fs.s3a.secret.key\", AWS_SECRET_ACCESS_KEY)\n",
    "conf.set(\"spark.hadoop.fs.s3a.session.token\", AWS_SESSION_TOKEN)"
   ]
  }
 ],
 "metadata": {
  "language_info": {
   "name": "python"
  },
  "orig_nbformat": 4
 },
 "nbformat": 4,
 "nbformat_minor": 2
}
